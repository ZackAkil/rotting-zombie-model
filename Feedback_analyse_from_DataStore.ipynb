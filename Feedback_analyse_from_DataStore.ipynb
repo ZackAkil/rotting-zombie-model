{
  "nbformat": 4,
  "nbformat_minor": 0,
  "metadata": {
    "colab": {
      "name": "Feedback analyse from DataStore.ipynb",
      "version": "0.3.2",
      "provenance": [],
      "collapsed_sections": [],
      "include_colab_link": true
    },
    "kernelspec": {
      "name": "python3",
      "display_name": "Python 3"
    }
  },
  "cells": [
    {
      "cell_type": "markdown",
      "metadata": {
        "id": "view-in-github",
        "colab_type": "text"
      },
      "source": [
        "[View in Colaboratory](https://colab.research.google.com/github/ZackAkil/rotting-zombie-model/blob/master/Feedback_analyse_from_DataStore.ipynb)"
      ]
    },
    {
      "metadata": {
        "id": "__dj6ULTiSrp",
        "colab_type": "text"
      },
      "cell_type": "markdown",
      "source": [
        "# Feedback analyse\n",
        "We will look at how you can extract data out of DataStore and check if the model is rotting."
      ]
    },
    {
      "metadata": {
        "id": "cPnQCcwziebG",
        "colab_type": "code",
        "colab": {}
      },
      "cell_type": "code",
      "source": [
        "# install DataStore python library\n",
        "!pip install -qq google-cloud-datastore"
      ],
      "execution_count": 0,
      "outputs": []
    },
    {
      "metadata": {
        "id": "SPH9J5l0ilAi",
        "colab_type": "code",
        "colab": {}
      },
      "cell_type": "code",
      "source": [
        "from google.cloud import datastore"
      ],
      "execution_count": 0,
      "outputs": []
    },
    {
      "metadata": {
        "id": "3n-dLTuniogz",
        "colab_type": "code",
        "colab": {}
      },
      "cell_type": "code",
      "source": [
        "# autheticate to our Google Cloud Platform account\n",
        "from google.colab import auth\n",
        "auth.authenticate_user()"
      ],
      "execution_count": 0,
      "outputs": []
    },
    {
      "metadata": {
        "id": "xkX3caYpjDod",
        "colab_type": "text"
      },
      "cell_type": "markdown",
      "source": [
        "## Connect to DataStore"
      ]
    },
    {
      "metadata": {
        "id": "Erf4Bcltitim",
        "colab_type": "code",
        "colab": {}
      },
      "cell_type": "code",
      "source": [
        "PROJECT_ID = 'zacks-first'\n",
        "\n",
        "# connect to DataStore\n",
        "client = datastore.Client(PROJECT_ID)"
      ],
      "execution_count": 0,
      "outputs": []
    },
    {
      "metadata": {
        "id": "j-1nFBetjICx",
        "colab_type": "text"
      },
      "cell_type": "markdown",
      "source": [
        "## Query DataStore"
      ]
    },
    {
      "metadata": {
        "id": "jItfTSdsi7o2",
        "colab_type": "code",
        "colab": {}
      },
      "cell_type": "code",
      "source": [
        "# query for all prediction-feedback items\n",
        "query = client.query(kind='prediction-feedback')\n",
        "\n",
        "# order by the time field\n",
        "query.order = ['time']\n",
        "\n",
        "# fetch the items (returns an iterator so we will empty it into a list)\n",
        "data = list(query.fetch())"
      ],
      "execution_count": 0,
      "outputs": []
    },
    {
      "metadata": {
        "id": "UYHwm1khjZKn",
        "colab_type": "code",
        "colab": {
          "base_uri": "https://localhost:8080/",
          "height": 54
        },
        "outputId": "00ef2b00-a17a-46d7-fd9f-23e5bfff188f"
      },
      "cell_type": "code",
      "source": [
        "# lets look at a single item\n",
        "data[0]"
      ],
      "execution_count": 33,
      "outputs": [
        {
          "output_type": "execute_result",
          "data": {
            "text/plain": [
              "<Entity('prediction-feedback', 5679790782676992) {'prediction': 1, 'input data': [-0.8300105114555543, 0.3990742221560673, 1.9084475908892906, 0.3804372006233603], 'was correct': True, 'model': 'v1', 'time': datetime.datetime(2018, 10, 22, 14, 21, 2, 199917, tzinfo=<UTC>)}>"
            ]
          },
          "metadata": {
            "tags": []
          },
          "execution_count": 33
        }
      ]
    },
    {
      "metadata": {
        "id": "a64BJ8zEjjg4",
        "colab_type": "code",
        "colab": {
          "base_uri": "https://localhost:8080/",
          "height": 85
        },
        "outputId": "d7c882f8-773d-4af8-82a4-86615cffab17"
      },
      "cell_type": "code",
      "source": [
        "# look at single items fields\n",
        "print(data[0]['was correct'])\n",
        "print(data[0]['model'])\n",
        "print(data[0]['time'])\n",
        "print(data[0]['input data'])"
      ],
      "execution_count": 34,
      "outputs": [
        {
          "output_type": "stream",
          "text": [
            "True\n",
            "v1\n",
            "2018-10-22 14:21:02.199917+00:00\n",
            "[-0.8300105114555543, 0.3990742221560673, 1.9084475908892906, 0.3804372006233603]\n"
          ],
          "name": "stdout"
        }
      ]
    },
    {
      "metadata": {
        "id": "3H0LLikFlFcz",
        "colab_type": "text"
      },
      "cell_type": "markdown",
      "source": [
        "## What percentage of feedback were  'was correct' was True"
      ]
    },
    {
      "metadata": {
        "id": "fXU1K_bkkshv",
        "colab_type": "code",
        "colab": {
          "base_uri": "https://localhost:8080/",
          "height": 34
        },
        "outputId": "35366a53-1add-484f-f699-31c689b36d8a"
      },
      "cell_type": "code",
      "source": [
        "number_of_items = len(data)\n",
        "number_of_was_correct = len([d for d in data if d['was correct']])\n",
        "\n",
        "\n",
        "print('{0} total number of items, {1} total number of items were \"was correct\" is set to True'.format(number_of_items, \n",
        "                                                                                                      number_of_was_correct))"
      ],
      "execution_count": 35,
      "outputs": [
        {
          "output_type": "stream",
          "text": [
            "250 total number of items, 210 total number of items were \"was correct\" is set to True\n"
          ],
          "name": "stdout"
        }
      ]
    },
    {
      "metadata": {
        "id": "aOuBMXb-l0yg",
        "colab_type": "code",
        "colab": {
          "base_uri": "https://localhost:8080/",
          "height": 34
        },
        "outputId": "ccf8ee21-7b07-45a8-8c2d-245c414af5a3"
      },
      "cell_type": "code",
      "source": [
        "# what ratio are correct i.e the accuracy of the model\n",
        "number_of_was_correct/number_of_items"
      ],
      "execution_count": 36,
      "outputs": [
        {
          "output_type": "execute_result",
          "data": {
            "text/plain": [
              "0.84"
            ]
          },
          "metadata": {
            "tags": []
          },
          "execution_count": 36
        }
      ]
    },
    {
      "metadata": {
        "id": "HUCKTbotmrLd",
        "colab_type": "text"
      },
      "cell_type": "markdown",
      "source": [
        "## Let's check to see if the accuracy is consistent over time"
      ]
    },
    {
      "metadata": {
        "id": "rS2sXd-_l9aV",
        "colab_type": "code",
        "colab": {}
      },
      "cell_type": "code",
      "source": [
        "import matplotlib.pyplot as plt\n",
        "\n",
        "def plot_performance(data, window = 50):\n",
        "  '''\n",
        "  Will calculate the accuracy using a sliding window on the data.\n",
        "  '''\n",
        "  \n",
        "  perf = []\n",
        "\n",
        "  for i in range(len(data) - window):\n",
        "    data_slice = data[i:i+window]\n",
        "    accuracy = len([d for d in data_slice if d['was correct']]) / len(data_slice)\n",
        "    perf.append(accuracy)\n",
        "\n",
        "  plt.ylabel('Accuracy')\n",
        "  plt.plot(perf)"
      ],
      "execution_count": 0,
      "outputs": []
    },
    {
      "metadata": {
        "id": "dFiDSRm9rn7w",
        "colab_type": "code",
        "colab": {
          "base_uri": "https://localhost:8080/",
          "height": 351
        },
        "outputId": "4538860a-5ad9-4100-dcdc-370765d1d556"
      },
      "cell_type": "code",
      "source": [
        "plot_performance(data)"
      ],
      "execution_count": 48,
      "outputs": [
        {
          "output_type": "display_data",
          "data": {
            "image/png": "[encoded data removed]",
            "text/plain": [
              "<matplotlib.figure.Figure at 0x7f10c0d27dd8>"
            ]
          },
          "metadata": {
            "tags": []
          }
        }
      ]
    },
    {
      "metadata": {
        "id": "Ac91pP_Qsr24",
        "colab_type": "text"
      },
      "cell_type": "markdown",
      "source": [
        "### So our model appears to have recently gotten a lot worse in performance  \n",
        "\n",
        "## Let's look at the corresponding input data that was submitted  "
      ]
    },
    {
      "metadata": {
        "id": "k-Zkx_6br2kM",
        "colab_type": "code",
        "colab": {}
      },
      "cell_type": "code",
      "source": [
        "import numpy as np\n",
        "\n",
        "def plot_input_data(data, start_index, window_size = 50):\n",
        "  \n",
        "  data_window = data[start_index : start_index + window_size]\n",
        "  \n",
        "  points = [d['input data'] for d in data_window]\n",
        "  correct = [int(d['was correct']) for d in data_window]\n",
        "\n",
        "  np_points = np.array(points)\n",
        "\n",
        "  plt.scatter(np_points[:,0], np_points[:,1], c=correct, cmap='bwr_r')\n",
        "  plt.show()"
      ],
      "execution_count": 0,
      "outputs": []
    },
    {
      "metadata": {
        "id": "bikoT4wFtUuq",
        "colab_type": "code",
        "colab": {
          "base_uri": "https://localhost:8080/",
          "height": 347
        },
        "outputId": "3a18dbef-96e3-49cd-b977-8561e76648a2"
      },
      "cell_type": "code",
      "source": [
        "#@title Inspect input data { run: \"auto\" }\n",
        "start = 168 #@param {type:\"slider\", min:0, max:200, step:1}\n",
        "\n",
        "plot_input_data(data, start)"
      ],
      "execution_count": 84,
      "outputs": [
        {
          "output_type": "display_data",
          "data": {
            "image/png": "[encoded data removed]",
            "text/plain": [
              "<matplotlib.figure.Figure at 0x7f10c0c8a2b0>"
            ]
          },
          "metadata": {
            "tags": []
          }
        }
      ]
    },
    {
      "metadata": {
        "id": "KIjmSGOyu5yV",
        "colab_type": "code",
        "colab": {
          "base_uri": "https://localhost:8080/",
          "height": 707
        },
        "outputId": "a329538f-8073-42e5-edda-c2a766f4e6b7"
      },
      "cell_type": "code",
      "source": [
        "plt.title('High accuracy input data')\n",
        "plot_input_data(data, 0)\n",
        "\n",
        "plt.title('Low accuracy input data')\n",
        "plot_input_data(data, 170)"
      ],
      "execution_count": 85,
      "outputs": [
        {
          "output_type": "display_data",
          "data": {
            "image/png": "[encoded data removed]",
            "text/plain": [
              "<matplotlib.figure.Figure at 0x7f10c0d2d278>"
            ]
          },
          "metadata": {
            "tags": []
          }
        },
        {
          "output_type": "display_data",
          "data": {
            "image/png": "[encoded data removed]",
            "text/plain": [
              "<matplotlib.figure.Figure at 0x7f10c8895b00>"
            ]
          },
          "metadata": {
            "tags": []
          }
        }
      ]
    },
    {
      "metadata": {
        "id": "N3i4rnKKtp9V",
        "colab_type": "text"
      },
      "cell_type": "markdown",
      "source": [
        "We can see that the input data was very different in the more recent feedback (were it got a low accuracy).\n",
        "\n",
        "We can guesse that the zombie population has mutated and we'll need to retrain our model on the new data collected (plus maybe go out and collect some more data of our own to confirm this hypothosis)."
      ]
    },
    {
      "metadata": {
        "id": "9_fD4d3rx-ak",
        "colab_type": "text"
      },
      "cell_type": "markdown",
      "source": [
        "## Let's collect and save the data from DataStore into a new data set"
      ]
    },
    {
      "metadata": {
        "id": "BhnbZBsQtWLx",
        "colab_type": "code",
        "colab": {}
      },
      "cell_type": "code",
      "source": [
        "# performance dropped after the 125th item\n",
        "new_data = data[125:]"
      ],
      "execution_count": 0,
      "outputs": []
    },
    {
      "metadata": {
        "id": "iNQcZs8mxkRd",
        "colab_type": "code",
        "colab": {
          "base_uri": "https://localhost:8080/",
          "height": 34
        },
        "outputId": "db21bbb0-dda4-4a0b-a1ee-025772eb38c8"
      },
      "cell_type": "code",
      "source": [
        "# extract the input data\n",
        "new_x = np.array([d['input data'] for d in new_data])\n",
        "new_x.shape"
      ],
      "execution_count": 96,
      "outputs": [
        {
          "output_type": "execute_result",
          "data": {
            "text/plain": [
              "(125, 4)"
            ]
          },
          "metadata": {
            "tags": []
          },
          "execution_count": 96
        }
      ]
    },
    {
      "metadata": {
        "id": "9sdeyJ4HyWmg",
        "colab_type": "code",
        "colab": {
          "base_uri": "https://localhost:8080/",
          "height": 34
        },
        "outputId": "5c9ec7c9-becd-49cd-b410-dc76a82db0b2"
      },
      "cell_type": "code",
      "source": [
        "# extract the target y\n",
        "# BUT remember to flip it if the user said it was and incorrect prediction\n",
        "\n",
        "new_y = []\n",
        "\n",
        "for item in new_data:\n",
        "  \n",
        "  if item['was correct']:\n",
        "    # if the prediction was correct then just save the prediction as is    \n",
        "    new_y.append(item['prediction'])\n",
        "    \n",
        "  else:\n",
        "    # if it was incorrect then flip the prediction\n",
        "    if item['prediction'] == 0:\n",
        "      new_y.append(1)\n",
        "    else:\n",
        "      new_y.append(0)\n",
        "      \n",
        "new_y = np.array(new_y)\n",
        "\n",
        "new_y.shape"
      ],
      "execution_count": 102,
      "outputs": [
        {
          "output_type": "execute_result",
          "data": {
            "text/plain": [
              "(125,)"
            ]
          },
          "metadata": {
            "tags": []
          },
          "execution_count": 102
        }
      ]
    },
    {
      "metadata": {
        "id": "9Zxj4yri0WTw",
        "colab_type": "code",
        "colab": {
          "base_uri": "https://localhost:8080/",
          "height": 34
        },
        "outputId": "37111a84-eae2-416e-88f8-08e1ec1ca637"
      },
      "cell_type": "code",
      "source": [
        "from sklearn.externals import joblib\n",
        "\n",
        "# save data\n",
        "joblib.dump({\"x\":new_x, \"y\":new_y}, \"zombie_data_2.joblib\" )"
      ],
      "execution_count": 105,
      "outputs": [
        {
          "output_type": "execute_result",
          "data": {
            "text/plain": [
              "['zombie_data_2.joblib']"
            ]
          },
          "metadata": {
            "tags": []
          },
          "execution_count": 105
        }
      ]
    }
  ]
}