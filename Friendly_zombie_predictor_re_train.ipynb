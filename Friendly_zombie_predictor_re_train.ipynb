{
  "nbformat": 4,
  "nbformat_minor": 0,
  "metadata": {
    "colab": {
      "name": "Friendly zombie predictor re-train.ipynb",
      "version": "0.3.2",
      "provenance": [],
      "toc_visible": true,
      "include_colab_link": true
    },
    "kernelspec": {
      "name": "python3",
      "display_name": "Python 3"
    }
  },
  "cells": [
    {
      "cell_type": "markdown",
      "metadata": {
        "id": "view-in-github",
        "colab_type": "text"
      },
      "source": [
        "[View in Colaboratory](https://colab.research.google.com/github/ZackAkil/rotting-zombie-model/blob/master/Friendly_zombie_predictor_re_train.ipynb)"
      ]
    },
    {
      "metadata": {
        "id": "kX392kF46vlV",
        "colab_type": "text"
      },
      "cell_type": "markdown",
      "source": [
        "# Friendly zombie predictor re-train\n",
        "We are going to train a new descision tree predictor using scikit-learn to predict if a zombie is friendly or not."
      ]
    },
    {
      "metadata": {
        "id": "iBdWGHP7zR65",
        "colab_type": "code",
        "colab": {}
      },
      "cell_type": "code",
      "source": [
        "import matplotlib.pyplot as plt\n",
        "\n",
        "from sklearn.externals import joblib\n",
        "from sklearn.model_selection import train_test_split\n",
        "from sklearn.tree import DecisionTreeClassifier"
      ],
      "execution_count": 0,
      "outputs": []
    },
    {
      "metadata": {
        "id": "OCIeklna0GYx",
        "colab_type": "text"
      },
      "cell_type": "markdown",
      "source": [
        "### Download new zombie data from github repo"
      ]
    },
    {
      "metadata": {
        "id": "BlFNESipzkYs",
        "colab_type": "code",
        "colab": {}
      },
      "cell_type": "code",
      "source": [
        "# download data\n",
        "!wget -q https://github.com/ZackAkil/rotting-zombie-model/raw/master/data/zombie_data_2.joblib"
      ],
      "execution_count": 0,
      "outputs": []
    },
    {
      "metadata": {
        "id": "J5EOIE_ezrNL",
        "colab_type": "code",
        "outputId": "22e3b21f-2bc9-42a1-93f6-6b69f1756f4d",
        "colab": {
          "base_uri": "https://localhost:8080/",
          "height": 34
        }
      },
      "cell_type": "code",
      "source": [
        "zombie_data = joblib.load('zombie_data_2.joblib')\n",
        "\n",
        "X = zombie_data['x']\n",
        "y = zombie_data['y']\n",
        "\n",
        "X.shape, y.shape"
      ],
      "execution_count": 5,
      "outputs": [
        {
          "output_type": "execute_result",
          "data": {
            "text/plain": [
              "((125, 4), (125,))"
            ]
          },
          "metadata": {
            "tags": []
          },
          "execution_count": 5
        }
      ]
    },
    {
      "metadata": {
        "id": "naLwLhDg0OCl",
        "colab_type": "text"
      },
      "cell_type": "markdown",
      "source": [
        "### Train/Test split data"
      ]
    },
    {
      "metadata": {
        "id": "VVixF4gRz3rn",
        "colab_type": "code",
        "colab": {}
      },
      "cell_type": "code",
      "source": [
        "X_train, X_test, y_train, y_test = train_test_split(\n",
        "    X, y, test_size=0.33, random_state=42)"
      ],
      "execution_count": 0,
      "outputs": []
    },
    {
      "metadata": {
        "id": "Cae6Jki65mDe",
        "colab_type": "text"
      },
      "cell_type": "markdown",
      "source": [
        "## Build model"
      ]
    },
    {
      "metadata": {
        "id": "ymDGK4uC0bxP",
        "colab_type": "code",
        "outputId": "1bbf3c63-4d38-4377-c74c-6ab5bf6204ca",
        "colab": {
          "base_uri": "https://localhost:8080/",
          "height": 119
        }
      },
      "cell_type": "code",
      "source": [
        "model = DecisionTreeClassifier()\n",
        "model.fit(X_train, y_train)"
      ],
      "execution_count": 7,
      "outputs": [
        {
          "output_type": "execute_result",
          "data": {
            "text/plain": [
              "DecisionTreeClassifier(class_weight=None, criterion='gini', max_depth=None,\n",
              "            max_features=None, max_leaf_nodes=None,\n",
              "            min_impurity_decrease=0.0, min_impurity_split=None,\n",
              "            min_samples_leaf=1, min_samples_split=2,\n",
              "            min_weight_fraction_leaf=0.0, presort=False, random_state=None,\n",
              "            splitter='best')"
            ]
          },
          "metadata": {
            "tags": []
          },
          "execution_count": 7
        }
      ]
    },
    {
      "metadata": {
        "id": "S1uCRYyV5vIq",
        "colab_type": "code",
        "outputId": "be4f1687-03d0-435c-e06d-a7f1d27bffbd",
        "colab": {
          "base_uri": "https://localhost:8080/",
          "height": 34
        }
      },
      "cell_type": "code",
      "source": [
        "model.score(X_test, y_test)"
      ],
      "execution_count": 8,
      "outputs": [
        {
          "output_type": "execute_result",
          "data": {
            "text/plain": [
              "0.8333333333333334"
            ]
          },
          "metadata": {
            "tags": []
          },
          "execution_count": 8
        }
      ]
    },
    {
      "metadata": {
        "id": "HS8_M5-o6aEw",
        "colab_type": "text"
      },
      "cell_type": "markdown",
      "source": [
        "### Save our model"
      ]
    },
    {
      "metadata": {
        "id": "9IUPje24557j",
        "colab_type": "code",
        "outputId": "bc4f401d-6c71-4227-b58a-343450bd2a79",
        "colab": {
          "base_uri": "https://localhost:8080/",
          "height": 34
        }
      },
      "cell_type": "code",
      "source": [
        "joblib.dump(model, 'model.joblib')"
      ],
      "execution_count": 9,
      "outputs": [
        {
          "output_type": "execute_result",
          "data": {
            "text/plain": [
              "['model.joblib']"
            ]
          },
          "metadata": {
            "tags": []
          },
          "execution_count": 9
        }
      ]
    },
    {
      "metadata": {
        "id": "ml_gWW0f_jb5",
        "colab_type": "code",
        "colab": {}
      },
      "cell_type": "code",
      "source": [
        ""
      ],
      "execution_count": 0,
      "outputs": []
    }
  ]
}