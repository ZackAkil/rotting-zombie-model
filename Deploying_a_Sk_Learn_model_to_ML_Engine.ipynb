{
  "nbformat": 4,
  "nbformat_minor": 0,
  "metadata": {
    "colab": {
      "name": "Deploying a Sk-Learn model to ML Engine.ipynb",
      "version": "0.3.2",
      "provenance": [],
      "include_colab_link": true
    },
    "kernelspec": {
      "name": "python3",
      "display_name": "Python 3"
    }
  },
  "cells": [
    {
      "cell_type": "markdown",
      "metadata": {
        "id": "view-in-github",
        "colab_type": "text"
      },
      "source": [
        "[View in Colaboratory](https://colab.research.google.com/github/ZackAkil/rotting-zombie-model/blob/master/Deploying_a_Sk_Learn_model_to_ML_Engine.ipynb)"
      ]
    },
    {
      "metadata": {
        "id": "tzjCsI_8E-IR",
        "colab_type": "text"
      },
      "cell_type": "markdown",
      "source": [
        "# Deploying a Sk-Learn model to ML Engine\n",
        "This will show you the steps to deploy an sklearn model using only gcloud commands\n",
        "\n",
        "## you need a [Googel Cloud Platform](https://cloud.google.com/gcp/) account for this to work"
      ]
    },
    {
      "metadata": {
        "id": "A8n154nAFEya",
        "colab_type": "code",
        "colab": {}
      },
      "cell_type": "code",
      "source": [
        "# what model are we deploying \n",
        "!wget -q https://github.com/ZackAkil/rotting-zombie-model/raw/master/models/v1/model.joblib"
      ],
      "execution_count": 0,
      "outputs": []
    },
    {
      "metadata": {
        "id": "ATEcl2wUFuFU",
        "colab_type": "code",
        "colab": {}
      },
      "cell_type": "code",
      "source": [
        "# autehticate to google cloud platform\n",
        "from google.colab import auth\n",
        "auth.authenticate_user()"
      ],
      "execution_count": 0,
      "outputs": []
    },
    {
      "metadata": {
        "id": "4E2zQluHJcIX",
        "colab_type": "text"
      },
      "cell_type": "markdown",
      "source": [
        "Specify your project ID along with the name of a backet you have created"
      ]
    },
    {
      "metadata": {
        "id": "q6P1c6wlFcMg",
        "colab_type": "code",
        "colab": {}
      },
      "cell_type": "code",
      "source": [
        "PROJECT_ID = 'your project id'\n",
        "BUCKET_NAME = 'some-random-bucket-name'"
      ],
      "execution_count": 0,
      "outputs": []
    },
    {
      "metadata": {
        "id": "CuTui6dfHBis",
        "colab_type": "code",
        "colab": {}
      },
      "cell_type": "code",
      "source": [
        "# set the project id for the gcloud to use later on\n",
        "!gcloud config set project 'your project id'"
      ],
      "execution_count": 0,
      "outputs": []
    },
    {
      "metadata": {
        "id": "FDp17oTRKCRH",
        "colab_type": "text"
      },
      "cell_type": "markdown",
      "source": [
        "# Save model to cloud bucket"
      ]
    },
    {
      "metadata": {
        "id": "u63ocoO6GDqf",
        "colab_type": "code",
        "colab": {}
      },
      "cell_type": "code",
      "source": [
        "# make sure you have a bucket created on your account \n",
        "# replace some-random-bucket-name with your buckets name\n",
        "\n",
        "!gsutil cp model.joblib gs://'some-random-bucket-name'/models/v1/model.joblib"
      ],
      "execution_count": 0,
      "outputs": []
    },
    {
      "metadata": {
        "id": "XhtSySzUIvKR",
        "colab_type": "text"
      },
      "cell_type": "markdown",
      "source": [
        "# Create new model\n",
        "https://cloud.google.com/sdk/gcloud/reference/ml-engine/models/create"
      ]
    },
    {
      "metadata": {
        "id": "tg3MesFZGl4z",
        "colab_type": "code",
        "colab": {}
      },
      "cell_type": "code",
      "source": [
        "# create a new ml-engine model \n",
        "# (if you have already created this you can skip this step)\n",
        "\n",
        "!gcloud ml-engine models create zombies_model"
      ],
      "execution_count": 0,
      "outputs": []
    },
    {
      "metadata": {
        "id": "XUt8ltGaIrn2",
        "colab_type": "text"
      },
      "cell_type": "markdown",
      "source": [
        "# Create new model version\n",
        "https://cloud.google.com/sdk/gcloud/reference/ml-engine/versions/create"
      ]
    },
    {
      "metadata": {
        "id": "liDWBwIXG37f",
        "colab_type": "code",
        "colab": {}
      },
      "cell_type": "code",
      "source": [
        "# create a new version\n",
        "!gcloud ml-engine versions create v1 --model=zombies_model \\\n",
        "                                     --framework=scikit-learn \\\n",
        "                                     --origin=gs://'some-random-bucket-name'/rot \\\n",
        "                                     --runtime-version=1.9 \\\n",
        "                                     --python-version=3.5"
      ],
      "execution_count": 0,
      "outputs": []
    }
  ]
}