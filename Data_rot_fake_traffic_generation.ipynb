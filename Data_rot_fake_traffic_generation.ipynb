{
  "nbformat": 4,
  "nbformat_minor": 0,
  "metadata": {
    "colab": {
      "name": "Data-rot fake traffic generation.ipynb",
      "version": "0.3.2",
      "provenance": [],
      "collapsed_sections": [],
      "toc_visible": true,
      "include_colab_link": true
    },
    "kernelspec": {
      "name": "python3",
      "display_name": "Python 3"
    }
  },
  "cells": [
    {
      "cell_type": "markdown",
      "metadata": {
        "id": "view-in-github",
        "colab_type": "text"
      },
      "source": [
        "[View in Colaboratory](https://colab.research.google.com/github/ZackAkil/rotting-zombie-model/blob/master/Data_rot_fake_traffic_generation.ipynb)"
      ]
    },
    {
      "metadata": {
        "id": "OWNdlTMyVPYN",
        "colab_type": "text"
      },
      "cell_type": "markdown",
      "source": [
        "# Data Rot Simulation\n",
        "Genrate 2 data sets and simulate a model progressily degenerating in proformance as the 2nd dataset takes over "
      ]
    },
    {
      "metadata": {
        "id": "0g7slcavjvSk",
        "colab_type": "code",
        "colab": {}
      },
      "cell_type": "code",
      "source": [
        "from sklearn.datasets import make_classification"
      ],
      "execution_count": 0,
      "outputs": []
    },
    {
      "metadata": {
        "id": "zjULBG-qj1zE",
        "colab_type": "code",
        "colab": {}
      },
      "cell_type": "code",
      "source": [
        "import matplotlib.pyplot as plt"
      ],
      "execution_count": 0,
      "outputs": []
    },
    {
      "metadata": {
        "id": "Th-u4fptkIY6",
        "colab_type": "code",
        "colab": {}
      },
      "cell_type": "code",
      "source": [
        "from sklearn.tree import DecisionTreeClassifier"
      ],
      "execution_count": 0,
      "outputs": []
    },
    {
      "metadata": {
        "id": "06_wcchupqSR",
        "colab_type": "code",
        "colab": {}
      },
      "cell_type": "code",
      "source": [
        "import numpy as np"
      ],
      "execution_count": 0,
      "outputs": []
    },
    {
      "metadata": {
        "id": "1CPwMarNVoiA",
        "colab_type": "text"
      },
      "cell_type": "markdown",
      "source": [
        "## Create first data set "
      ]
    },
    {
      "metadata": {
        "id": "MoM__Jx8j-dT",
        "colab_type": "code",
        "outputId": "0b19492b-8fd2-45d2-9c96-96651e7a6263",
        "colab": {
          "base_uri": "https://localhost:8080/",
          "height": 364
        }
      },
      "cell_type": "code",
      "source": [
        "x_1, y_1 = make_classification(random_state=99, n_features=4, n_redundant=1)\n",
        "plt.scatter(x_1[:,0], x_1[:,1], c=y_1)\n",
        "plt.show()\n",
        "x_1.shape"
      ],
      "execution_count": 0,
      "outputs": [
        {
          "output_type": "display_data",
          "data": {
            "image/png": "[encoded data removed]",
            "text/plain": [
              "<matplotlib.figure.Figure at 0x7f3456b676d8>"
            ]
          },
          "metadata": {
            "tags": []
          }
        },
        {
          "output_type": "execute_result",
          "data": {
            "text/plain": [
              "(100, 4)"
            ]
          },
          "metadata": {
            "tags": []
          },
          "execution_count": 5
        }
      ]
    },
    {
      "metadata": {
        "id": "0K0-d-mtVtnC",
        "colab_type": "text"
      },
      "cell_type": "markdown",
      "source": [
        "## Create second data set "
      ]
    },
    {
      "metadata": {
        "id": "MF_ToYpyVnYR",
        "colab_type": "code",
        "outputId": "78257a91-6c0b-4652-bc20-88fb58861775",
        "colab": {
          "base_uri": "https://localhost:8080/",
          "height": 364
        }
      },
      "cell_type": "code",
      "source": [
        "x_2, y_2 = make_classification(random_state=16, n_features=4, n_redundant=1)\n",
        "plt.scatter(x_2[:,0], x_2[:,1], c=y_1)\n",
        "plt.show()\n",
        "x_2.shape"
      ],
      "execution_count": 0,
      "outputs": [
        {
          "output_type": "display_data",
          "data": {
            "image/png": "[encoded data removed]",
            "text/plain": [
              "<matplotlib.figure.Figure at 0x7f34353ad320>"
            ]
          },
          "metadata": {
            "tags": []
          }
        },
        {
          "output_type": "execute_result",
          "data": {
            "text/plain": [
              "(100, 4)"
            ]
          },
          "metadata": {
            "tags": []
          },
          "execution_count": 6
        }
      ]
    },
    {
      "metadata": {
        "id": "BNBnA1V0V201",
        "colab_type": "text"
      },
      "cell_type": "markdown",
      "source": [
        "# Test predictability of data sets"
      ]
    },
    {
      "metadata": {
        "id": "27ycKPaPkism",
        "colab_type": "code",
        "outputId": "ce00000a-1e4b-4219-fae3-b75915e5de2a",
        "colab": {
          "base_uri": "https://localhost:8080/",
          "height": 347
        }
      },
      "cell_type": "code",
      "source": [
        "def grow_dataset_plot(x, y):\n",
        "\n",
        "  clf = DecisionTreeClassifier()\n",
        "\n",
        "  scores = []\n",
        "\n",
        "  for i in range(1, 100):\n",
        "\n",
        "    clf.fit(x[:i],y[:i])\n",
        "\n",
        "    scores.append(clf.score(x,y))\n",
        "  plt.plot(scores)\n",
        "  \n",
        "grow_dataset_plot(x_1, y_1)\n",
        "grow_dataset_plot(x_2, y_2)"
      ],
      "execution_count": 0,
      "outputs": [
        {
          "output_type": "display_data",
          "data": {
            "image/png": "[encoded data removed]",
            "text/plain": [
              "<matplotlib.figure.Figure at 0x7f342f71c5f8>"
            ]
          },
          "metadata": {
            "tags": []
          }
        }
      ]
    },
    {
      "metadata": {
        "id": "7BfEKU2wWROQ",
        "colab_type": "text"
      },
      "cell_type": "markdown",
      "source": [
        "## Merge dataset function"
      ]
    },
    {
      "metadata": {
        "id": "ogvN0SGukk9F",
        "colab_type": "code",
        "colab": {}
      },
      "cell_type": "code",
      "source": [
        "import numpy as np"
      ],
      "execution_count": 0,
      "outputs": []
    },
    {
      "metadata": {
        "id": "CVXE4kRoYyIH",
        "colab_type": "text"
      },
      "cell_type": "markdown",
      "source": [
        "# Simulate data rot over time (as new ground triths are reported)"
      ]
    },
    {
      "metadata": {
        "id": "4-4YbeJwYaZV",
        "colab_type": "code",
        "outputId": "c39a74d0-7207-4f17-9db7-ad326190a481",
        "colab": {
          "base_uri": "https://localhost:8080/",
          "height": 364
        }
      },
      "cell_type": "code",
      "source": [
        "clf = DecisionTreeClassifier()\n",
        "\n",
        "clf.fit(x_1, y_1)\n",
        "\n",
        "scores = []\n",
        "\n",
        "for i in range(1, 100):\n",
        "  \n",
        "  x = np.concatenate((x_1[i:], x_2[:i]))\n",
        "  y = np.concatenate((y_1[i:], y_2[:i]))\n",
        "\n",
        "  scores.append(clf.score(x, y))\n",
        "plt.plot(scores)"
      ],
      "execution_count": 0,
      "outputs": [
        {
          "output_type": "execute_result",
          "data": {
            "text/plain": [
              "[<matplotlib.lines.Line2D at 0x7f342f5d89b0>]"
            ]
          },
          "metadata": {
            "tags": []
          },
          "execution_count": 9
        },
        {
          "output_type": "display_data",
          "data": {
            "image/png": "[encoded data removed]",
            "text/plain": [
              "<matplotlib.figure.Figure at 0x7f342f6fa240>"
            ]
          },
          "metadata": {
            "tags": []
          }
        }
      ]
    },
    {
      "metadata": {
        "id": "CcpfDFMjY56i",
        "colab_type": "text"
      },
      "cell_type": "markdown",
      "source": [
        "# Simulate re-training overtime with ground truths"
      ]
    },
    {
      "metadata": {
        "id": "rgvdT2sDX4fM",
        "colab_type": "code",
        "outputId": "42558b42-28a7-4b88-c207-923232d569eb",
        "colab": {
          "base_uri": "https://localhost:8080/",
          "height": 364
        }
      },
      "cell_type": "code",
      "source": [
        "clf = DecisionTreeClassifier()\n",
        "\n",
        "scores = []\n",
        "\n",
        "all_x = np.concatenate((x_1, x_2))\n",
        "all_y = np.concatenate((y_1, y_2))\n",
        "\n",
        "for i in range(1, 100):\n",
        "  \n",
        "  x = all_x[i:100+i]\n",
        "  y = all_y[i:100+i]\n",
        "\n",
        "  clf.fit(x, y)\n",
        "\n",
        "  scores.append(clf.score(x_2, y_2))\n",
        "plt.plot(scores)"
      ],
      "execution_count": 0,
      "outputs": [
        {
          "output_type": "execute_result",
          "data": {
            "text/plain": [
              "[<matplotlib.lines.Line2D at 0x7f342f5c0198>]"
            ]
          },
          "metadata": {
            "tags": []
          },
          "execution_count": 10
        },
        {
          "output_type": "display_data",
          "data": {
            "image/png": "[encoded data removed]",
            "text/plain": [
              "<matplotlib.figure.Figure at 0x7f342f647358>"
            ]
          },
          "metadata": {
            "tags": []
          }
        }
      ]
    },
    {
      "metadata": {
        "id": "dlOIi3KA4mM6",
        "colab_type": "text"
      },
      "cell_type": "markdown",
      "source": [
        "# Train intial model"
      ]
    },
    {
      "metadata": {
        "id": "xxdBFKXM4vjt",
        "colab_type": "code",
        "colab": {}
      },
      "cell_type": "code",
      "source": [
        "from sklearn.model_selection import train_test_split"
      ],
      "execution_count": 0,
      "outputs": []
    },
    {
      "metadata": {
        "id": "2mZL5AuZYr9_",
        "colab_type": "code",
        "outputId": "de187272-b97b-401e-c720-1de668af86dd",
        "colab": {
          "base_uri": "https://localhost:8080/",
          "height": 34
        }
      },
      "cell_type": "code",
      "source": [
        "X_train, X_test, y_train, y_test = train_test_split(\n",
        "    x_1, y_1, test_size=0.33, random_state=42)\n",
        "\n",
        "clf = DecisionTreeClassifier()\n",
        "clf.fit(X_train, y_train)\n",
        "\n",
        "clf.score(X_test, y_test)"
      ],
      "execution_count": 0,
      "outputs": [
        {
          "output_type": "execute_result",
          "data": {
            "text/plain": [
              "0.7878787878787878"
            ]
          },
          "metadata": {
            "tags": []
          },
          "execution_count": 12
        }
      ]
    },
    {
      "metadata": {
        "id": "jsn218tVJGFC",
        "colab_type": "code",
        "outputId": "ab106a21-4fe6-4dd5-e473-adf8c76d876f",
        "colab": {
          "base_uri": "https://localhost:8080/",
          "height": 34
        }
      },
      "cell_type": "code",
      "source": [
        "clf.score(x_1, y_1)"
      ],
      "execution_count": 0,
      "outputs": [
        {
          "output_type": "execute_result",
          "data": {
            "text/plain": [
              "0.93"
            ]
          },
          "metadata": {
            "tags": []
          },
          "execution_count": 13
        }
      ]
    },
    {
      "metadata": {
        "id": "yjv0NEzymnEV",
        "colab_type": "text"
      },
      "cell_type": "markdown",
      "source": [
        "# Save model"
      ]
    },
    {
      "metadata": {
        "id": "ReKkX1x64p1k",
        "colab_type": "code",
        "colab": {}
      },
      "cell_type": "code",
      "source": [
        "from sklearn.externals import joblib"
      ],
      "execution_count": 0,
      "outputs": []
    },
    {
      "metadata": {
        "id": "l1DplMPc5wZI",
        "colab_type": "code",
        "outputId": "e5777fa4-725d-4c4c-837f-77093c889790",
        "colab": {
          "base_uri": "https://localhost:8080/",
          "height": 34
        }
      },
      "cell_type": "code",
      "source": [
        "joblib.dump(clf, 'model.joblib')"
      ],
      "execution_count": 0,
      "outputs": [
        {
          "output_type": "execute_result",
          "data": {
            "text/plain": [
              "['model.joblib']"
            ]
          },
          "metadata": {
            "tags": []
          },
          "execution_count": 15
        }
      ]
    },
    {
      "metadata": {
        "id": "vBEbN6kemqX-",
        "colab_type": "text"
      },
      "cell_type": "markdown",
      "source": [
        "## Upload to GCP"
      ]
    },
    {
      "metadata": {
        "id": "dsCK4YPN6V-h",
        "colab_type": "code",
        "colab": {}
      },
      "cell_type": "code",
      "source": [
        "from google.colab import auth\n",
        "auth.authenticate_user()"
      ],
      "execution_count": 0,
      "outputs": []
    },
    {
      "metadata": {
        "id": "eLUPFk_L6FWV",
        "colab_type": "code",
        "outputId": "19b68b5d-305b-4ff9-952c-2cb92522d3a6",
        "colab": {
          "base_uri": "https://localhost:8080/",
          "height": 68
        }
      },
      "cell_type": "code",
      "source": [
        "!gsutil cp model.joblib gs://rotting-sklearn-models/v1/model.joblib"
      ],
      "execution_count": 0,
      "outputs": [
        {
          "output_type": "stream",
          "text": [
            "Copying file://model.joblib [Content-Type=application/octet-stream]...\n",
            "/ [1 files][  2.6 KiB/  2.6 KiB]                                                \n",
            "Operation completed over 1 objects/2.6 KiB.                                      \n"
          ],
          "name": "stdout"
        }
      ]
    },
    {
      "metadata": {
        "id": "sPL7HqxjmtaN",
        "colab_type": "text"
      },
      "cell_type": "markdown",
      "source": [
        "# Call from cloud functions"
      ]
    },
    {
      "metadata": {
        "id": "CsUrCC5O6QQJ",
        "colab_type": "code",
        "colab": {}
      },
      "cell_type": "code",
      "source": [
        "import requests"
      ],
      "execution_count": 0,
      "outputs": []
    },
    {
      "metadata": {
        "id": "bi49hwYppNyd",
        "colab_type": "code",
        "colab": {}
      },
      "cell_type": "code",
      "source": [
        "def gen_rand_row(x, y):\n",
        "  random_index = np.random.randint(0, len(x))\n",
        "  random_x = x[random_index].tolist()\n",
        "  random_y = y[random_index]\n",
        "  return random_x, random_y\n",
        "\n",
        "random_x, random_y = gen_rand_row(x_1, y_1)"
      ],
      "execution_count": 0,
      "outputs": []
    },
    {
      "metadata": {
        "id": "yRDIxGn58I82",
        "colab_type": "code",
        "outputId": "194e7cf5-0419-4870-a490-1875c449a8f9",
        "colab": {
          "base_uri": "https://localhost:8080/",
          "height": 34
        }
      },
      "cell_type": "code",
      "source": [
        "model_url = \"predict-ml-engine-url\"\n",
        "\n",
        "req = requests.post(model_url, json={'model':'zombies', 'instances':[random_x]})\n",
        "preds = req.json()['predictions'][0]\n",
        "preds"
      ],
      "execution_count": 0,
      "outputs": [
        {
          "output_type": "execute_result",
          "data": {
            "text/plain": [
              "0"
            ]
          },
          "metadata": {
            "tags": []
          },
          "execution_count": 142
        }
      ]
    },
    {
      "metadata": {
        "id": "F9sHvtLuMr_9",
        "colab_type": "code",
        "outputId": "bfa84ae6-768c-43a5-9433-ae83ddb9f35d",
        "colab": {
          "base_uri": "https://localhost:8080/",
          "height": 153
        }
      },
      "cell_type": "code",
      "source": [
        "feedback_url = \"ml-engine-feedback-url\"\n",
        "req = requests.post(feedback_url, json={\"model\":\"v1\", \n",
        "                                        \"input data\":random_x, \n",
        "                                        \"prediction\": 5, \n",
        "                                        \"was correct\": True})\n",
        "req.json()"
      ],
      "execution_count": 0,
      "outputs": [
        {
          "output_type": "execute_result",
          "data": {
            "text/plain": [
              "{'input data': [-0.6905273874655921,\n",
              "  0.9203063836449301,\n",
              "  -1.7141987499815876,\n",
              "  1.3607762483499524],\n",
              " 'model': 'v1',\n",
              " 'prediction': 5,\n",
              " 'time': '2018-10-22 14:04:17.390947',\n",
              " 'was correct': True}"
            ]
          },
          "metadata": {
            "tags": []
          },
          "execution_count": 143
        }
      ]
    },
    {
      "metadata": {
        "id": "xJF7EvthGstR",
        "colab_type": "text"
      },
      "cell_type": "markdown",
      "source": [
        "# Generate fake predictions and feedback"
      ]
    },
    {
      "metadata": {
        "id": "7elvcMiLMvoe",
        "colab_type": "code",
        "colab": {}
      },
      "cell_type": "code",
      "source": [
        "def submit_feedback(x, y, model='v1'):\n",
        "\n",
        "  for i in range(50):\n",
        "\n",
        "    random_x, random_y = gen_rand_row(x, y)\n",
        "\n",
        "    # get prediction from ml-engine   \n",
        "    req = requests.post(model_url, json={'model':'zombies/versions/'+model, 'instances':[random_x]})\n",
        "    preds = req.json()['predictions'][0]\n",
        "\n",
        "    # submit feedback\n",
        "    req = requests.post(feedback_url, json={\"model\":model, \n",
        "                                          \"input data\":random_x, \n",
        "                                          \"prediction\": preds, \n",
        "                                          \"was correct\": bool(preds == random_y)})\n",
        "    print(i)\n",
        "  "
      ],
      "execution_count": 0,
      "outputs": []
    },
    {
      "metadata": {
        "id": "PoPdaIepVgip",
        "colab_type": "code",
        "outputId": "546cbe65-bd80-4820-c94b-4cc656878efb",
        "colab": {
          "base_uri": "https://localhost:8080/",
          "height": 867
        }
      },
      "cell_type": "code",
      "source": [
        "submit_feedback(x_2, y_2)"
      ],
      "execution_count": 0,
      "outputs": [
        {
          "output_type": "stream",
          "text": [
            "0\n",
            "1\n",
            "2\n",
            "3\n",
            "4\n",
            "5\n",
            "6\n",
            "7\n",
            "8\n",
            "9\n",
            "10\n",
            "11\n",
            "12\n",
            "13\n",
            "14\n",
            "15\n",
            "16\n",
            "17\n",
            "18\n",
            "19\n",
            "20\n",
            "21\n",
            "22\n",
            "23\n",
            "24\n",
            "25\n",
            "26\n",
            "27\n",
            "28\n",
            "29\n",
            "30\n",
            "31\n",
            "32\n",
            "33\n",
            "34\n",
            "35\n",
            "36\n",
            "37\n",
            "38\n",
            "39\n",
            "40\n",
            "41\n",
            "42\n",
            "43\n",
            "44\n",
            "45\n",
            "46\n",
            "47\n",
            "48\n",
            "49\n"
          ],
          "name": "stdout"
        }
      ]
    },
    {
      "metadata": {
        "id": "Vml7wVYkG8vz",
        "colab_type": "text"
      },
      "cell_type": "markdown",
      "source": [
        "# Fetch feedback data from Data Store"
      ]
    },
    {
      "metadata": {
        "id": "iQlY69p3MwDj",
        "colab_type": "code",
        "colab": {}
      },
      "cell_type": "code",
      "source": [
        "!pip install -qq google-cloud-datastore"
      ],
      "execution_count": 0,
      "outputs": []
    },
    {
      "metadata": {
        "id": "WIw7pw3TGF58",
        "colab_type": "code",
        "colab": {}
      },
      "cell_type": "code",
      "source": [
        ""
      ],
      "execution_count": 0,
      "outputs": []
    },
    {
      "metadata": {
        "id": "tNzwMo1jHDQu",
        "colab_type": "code",
        "colab": {}
      },
      "cell_type": "code",
      "source": [
        "from google.colab import auth\n",
        "auth.authenticate_user()"
      ],
      "execution_count": 0,
      "outputs": []
    },
    {
      "metadata": {
        "id": "S5tQAGNMHEU4",
        "colab_type": "code",
        "colab": {}
      },
      "cell_type": "code",
      "source": [
        "client = datastore.Client('project id')"
      ],
      "execution_count": 0,
      "outputs": []
    },
    {
      "metadata": {
        "id": "oCZxwLM1HH2u",
        "colab_type": "code",
        "outputId": "bfac09ae-2d8f-4eee-d4af-89cf91418bd3",
        "colab": {
          "base_uri": "https://localhost:8080/",
          "height": 34
        }
      },
      "cell_type": "code",
      "source": [
        "query = client.query(kind='prediction-feedback')\n",
        "query.order = ['time']\n",
        "data = list(query.fetch())\n",
        "len(data)"
      ],
      "execution_count": 0,
      "outputs": [
        {
          "output_type": "execute_result",
          "data": {
            "text/plain": [
              "416"
            ]
          },
          "metadata": {
            "tags": []
          },
          "execution_count": 20
        }
      ]
    },
    {
      "metadata": {
        "id": "hLGsQscrHJck",
        "colab_type": "code",
        "outputId": "da527238-db00-4a8f-945a-0386ef4b2dfc",
        "colab": {
          "base_uri": "https://localhost:8080/",
          "height": 34
        }
      },
      "cell_type": "code",
      "source": [
        "len([d for d in data if d['was correct']]) / len(data)"
      ],
      "execution_count": 0,
      "outputs": [
        {
          "output_type": "execute_result",
          "data": {
            "text/plain": [
              "0.875"
            ]
          },
          "metadata": {
            "tags": []
          },
          "execution_count": 21
        }
      ]
    },
    {
      "metadata": {
        "id": "8Tp8xHf0Ki5D",
        "colab_type": "code",
        "outputId": "cfe1e1d7-5fa0-4885-dde3-ba8a9d4c2754",
        "colab": {
          "base_uri": "https://localhost:8080/",
          "height": 532
        }
      },
      "cell_type": "code",
      "source": [
        "def plot_performance(data):\n",
        "  window = 50\n",
        "\n",
        "  perf = []\n",
        "\n",
        "  for i in range(len(data) - window):\n",
        "\n",
        "    data_slice = data[i:i+window]\n",
        "\n",
        "    accuracy = len([d for d in data_slice if d['was correct']]) / len(data_slice)\n",
        "\n",
        "    perf.append(accuracy)\n",
        "\n",
        "  plt.plot(perf)\n",
        "  \n",
        "plt.figure(dpi=100)\n",
        "plot_performance(data[:250])\n",
        "plt.xlabel('Days deployed')\n",
        "plt.ylabel('Accuracy')\n",
        "plt.title('Model accuracy since deployed')\n",
        "\n",
        "\n"
      ],
      "execution_count": 0,
      "outputs": [
        {
          "output_type": "execute_result",
          "data": {
            "text/plain": [
              "Text(0.5,1,'Model accuracy since deployed')"
            ]
          },
          "metadata": {
            "tags": []
          },
          "execution_count": 34
        },
        {
          "output_type": "display_data",
          "data": {
            "image/png": "[encoded data removed]",
            "text/plain": [
              "<matplotlib.figure.Figure at 0x7f342c4b8898>"
            ]
          },
          "metadata": {
            "tags": []
          }
        }
      ]
    },
    {
      "metadata": {
        "id": "3cNKcuNVSm_c",
        "colab_type": "code",
        "cellView": "both",
        "outputId": "300d8306-f60e-4a35-82dd-ab992154c0c2",
        "colab": {
          "base_uri": "https://localhost:8080/",
          "height": 265
        }
      },
      "cell_type": "code",
      "source": [
        "#@title INspect input data { run: \"auto\" }\n",
        "start = 187 #@param {type:\"slider\", min:0, max:200, step:1}\n",
        "window_size = 65 #@param {type:\"slider\", min:1, max:100, step:1}\n",
        "\n",
        "\n",
        "points = [d['input data'] for d in data[start : start+window_size]]\n",
        "correct = [int(d['was correct']) for d in data[start : start+window_size]]\n",
        "\n",
        "np_points = np.array(points)\n",
        "\n",
        "plt.scatter(np_points[:,0], np_points[:,1], c=correct, cmap='cool')\n",
        "plt.show()\n",
        "\n"
      ],
      "execution_count": 0,
      "outputs": [
        {
          "output_type": "display_data",
          "data": {
            "image/png": "[encoded data removed]",
            "text/plain": [
              "<matplotlib.figure.Figure at 0x7fd5fa2650f0>"
            ]
          },
          "metadata": {
            "tags": []
          }
        }
      ]
    },
    {
      "metadata": {
        "id": "zHgD5F_bc0YN",
        "colab_type": "text"
      },
      "cell_type": "markdown",
      "source": [
        "# What to do!\n",
        "\n",
        "Becuas eit seems like the previous population is no longer present in the data, then it can be assumed that the zombie population has evolved and therefore we should disregard the old data and train a completly new model on new data. \n",
        "\n",
        "If however the old population was still present then we could look at combining the data and retraining. We then would need to think about either keeping it a binary classification task or making a new classification label for the new type of zombie (making it a multi-classification problem with 3 classes)."
      ]
    },
    {
      "metadata": {
        "id": "ZXxj3PdbdrnN",
        "colab_type": "code",
        "colab": {}
      },
      "cell_type": "code",
      "source": [
        "new_data = data[-100:]"
      ],
      "execution_count": 0,
      "outputs": []
    },
    {
      "metadata": {
        "id": "AmQIoVw-jS3p",
        "colab_type": "code",
        "colab": {}
      },
      "cell_type": "code",
      "source": [
        "new_x = [d['input data'] for d in new_data]\n",
        "new_y = [d['prediction'] if d['was correct'] else abs(d['prediction'] - 1) for d in new_data ]\n"
      ],
      "execution_count": 0,
      "outputs": []
    },
    {
      "metadata": {
        "id": "CaniDqVDjfhP",
        "colab_type": "code",
        "outputId": "7578d52d-b41d-4a9d-a992-2af1de36dcf5",
        "colab": {
          "base_uri": "https://localhost:8080/",
          "height": 34
        }
      },
      "cell_type": "code",
      "source": [
        "X_train, X_test, y_train, y_test = train_test_split(\n",
        "    new_x, new_y, test_size=0.33, random_state=42)\n",
        "\n",
        "new_clf = DecisionTreeClassifier()\n",
        "new_clf.fit(X_train, y_train)\n",
        "\n",
        "new_clf.score(X_test, y_test)"
      ],
      "execution_count": 0,
      "outputs": [
        {
          "output_type": "execute_result",
          "data": {
            "text/plain": [
              "0.9696969696969697"
            ]
          },
          "metadata": {
            "tags": []
          },
          "execution_count": 339
        }
      ]
    },
    {
      "metadata": {
        "id": "tmRjxrMukaiB",
        "colab_type": "code",
        "outputId": "6cc7aafe-2f89-4465-ee38-43c5a7197c52",
        "colab": {
          "base_uri": "https://localhost:8080/",
          "height": 34
        }
      },
      "cell_type": "code",
      "source": [
        "joblib.dump(new_clf, 'model.joblib')"
      ],
      "execution_count": 0,
      "outputs": [
        {
          "output_type": "execute_result",
          "data": {
            "text/plain": [
              "['model.joblib']"
            ]
          },
          "metadata": {
            "tags": []
          },
          "execution_count": 328
        }
      ]
    },
    {
      "metadata": {
        "id": "0yDRjdZzkm7B",
        "colab_type": "code",
        "outputId": "4211c3f1-1136-4325-f65f-f0f6ba158df7",
        "colab": {
          "base_uri": "https://localhost:8080/",
          "height": 68
        }
      },
      "cell_type": "code",
      "source": [
        "!gsutil cp model.joblib gs://my-first-sklearn/rot/v2/model.joblib"
      ],
      "execution_count": 0,
      "outputs": [
        {
          "output_type": "stream",
          "text": [
            "Copying file://model.joblib [Content-Type=application/octet-stream]...\n",
            "/ [1 files][  1.6 KiB/  1.6 KiB]                                                \n",
            "Operation completed over 1 objects/1.6 KiB.                                      \n"
          ],
          "name": "stdout"
        }
      ]
    },
    {
      "metadata": {
        "id": "3fAr2yhSljT-",
        "colab_type": "text"
      },
      "cell_type": "markdown",
      "source": [
        "# send new data to new model"
      ]
    },
    {
      "metadata": {
        "id": "trToQGKwk-Gr",
        "colab_type": "code",
        "outputId": "365369e8-0f87-42ad-e99e-4352ffd763c8",
        "colab": {
          "base_uri": "https://localhost:8080/",
          "height": 867
        }
      },
      "cell_type": "code",
      "source": [
        "submit_feedback(x_2, y_2, model='v2')"
      ],
      "execution_count": 0,
      "outputs": [
        {
          "output_type": "stream",
          "text": [
            "0\n",
            "1\n",
            "2\n",
            "3\n",
            "4\n",
            "5\n",
            "6\n",
            "7\n",
            "8\n",
            "9\n",
            "10\n",
            "11\n",
            "12\n",
            "13\n",
            "14\n",
            "15\n",
            "16\n",
            "17\n",
            "18\n",
            "19\n",
            "20\n",
            "21\n",
            "22\n",
            "23\n",
            "24\n",
            "25\n",
            "26\n",
            "27\n",
            "28\n",
            "29\n",
            "30\n",
            "31\n",
            "32\n",
            "33\n",
            "34\n",
            "35\n",
            "36\n",
            "37\n",
            "38\n",
            "39\n",
            "40\n",
            "41\n",
            "42\n",
            "43\n",
            "44\n",
            "45\n",
            "46\n",
            "47\n",
            "48\n",
            "49\n"
          ],
          "name": "stdout"
        }
      ]
    },
    {
      "metadata": {
        "id": "dWFCs4O1lpKZ",
        "colab_type": "code",
        "outputId": "5490c87a-2bef-4ee3-abe9-3dca22b3efe9",
        "colab": {
          "base_uri": "https://localhost:8080/",
          "height": 34
        }
      },
      "cell_type": "code",
      "source": [
        "query = client.query(kind='prediction-feedback')\n",
        "query.order = ['time']\n",
        "data = list(query.fetch())\n",
        "len(data)"
      ],
      "execution_count": 0,
      "outputs": [
        {
          "output_type": "execute_result",
          "data": {
            "text/plain": [
              "416"
            ]
          },
          "metadata": {
            "tags": []
          },
          "execution_count": 341
        }
      ]
    },
    {
      "metadata": {
        "id": "-z0aPuuLl_Tu",
        "colab_type": "code",
        "outputId": "c630b392-7892-41cf-89d3-96a1664a5bc0",
        "colab": {
          "base_uri": "https://localhost:8080/",
          "height": 265
        }
      },
      "cell_type": "code",
      "source": [
        "plot_performance(data)"
      ],
      "execution_count": 0,
      "outputs": [
        {
          "output_type": "display_data",
          "data": {
            "image/png": "[encoded data removed]",
            "text/plain": [
              "<matplotlib.figure.Figure at 0x7fd5fbecc470>"
            ]
          },
          "metadata": {
            "tags": []
          }
        }
      ]
    },
    {
      "metadata": {
        "id": "PrAZwyhNmF1f",
        "colab_type": "text"
      },
      "cell_type": "markdown",
      "source": [
        "# We fought off model rot!"
      ]
    }
  ]
}